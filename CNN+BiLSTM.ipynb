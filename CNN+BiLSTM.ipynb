{
  "nbformat": 4,
  "nbformat_minor": 0,
  "metadata": {
    "colab": {
      "provenance": [],
      "gpuType": "T4",
      "authorship_tag": "ABX9TyPI2biA0wYj5hAZj7AVMGa5",
      "include_colab_link": true
    },
    "kernelspec": {
      "name": "python3",
      "display_name": "Python 3"
    },
    "language_info": {
      "name": "python"
    },
    "accelerator": "GPU"
  },
  "cells": [
    {
      "cell_type": "markdown",
      "metadata": {
        "id": "view-in-github",
        "colab_type": "text"
      },
      "source": [
        "<a href=\"https://colab.research.google.com/github/FariaParvinMegha/thesis_1/blob/main/CNN%2BBiLSTM.ipynb\" target=\"_parent\"><img src=\"https://colab.research.google.com/assets/colab-badge.svg\" alt=\"Open In Colab\"/></a>"
      ]
    },
    {
      "cell_type": "code",
      "execution_count": 1,
      "metadata": {
        "colab": {
          "base_uri": "https://localhost:8080/"
        },
        "id": "msgbY48BMeb5",
        "outputId": "1c3e6db9-040f-476e-feec-f03720d66135"
      },
      "outputs": [
        {
          "output_type": "stream",
          "name": "stdout",
          "text": [
            "Mounted at /content/drive\n"
          ]
        }
      ],
      "source": [
        "from google.colab import drive\n",
        "drive.mount('/content/drive')"
      ]
    },
    {
      "cell_type": "code",
      "source": [
        "pip install git+https://github.com/forrestbao/pyeeg.git"
      ],
      "metadata": {
        "colab": {
          "base_uri": "https://localhost:8080/"
        },
        "id": "DvqlnrW3OLVH",
        "outputId": "58ca0acc-077f-4904-dd62-2b50ac4daad2"
      },
      "execution_count": 2,
      "outputs": [
        {
          "output_type": "stream",
          "name": "stdout",
          "text": [
            "Collecting git+https://github.com/forrestbao/pyeeg.git\n",
            "  Cloning https://github.com/forrestbao/pyeeg.git to /tmp/pip-req-build-i63t83lt\n",
            "  Running command git clone --filter=blob:none --quiet https://github.com/forrestbao/pyeeg.git /tmp/pip-req-build-i63t83lt\n",
            "  Resolved https://github.com/forrestbao/pyeeg.git to commit a6c18bb093e4748f9d9c208535a6ae024a0802b8\n",
            "  Preparing metadata (setup.py) ... \u001b[?25l\u001b[?25hdone\n",
            "Requirement already satisfied: numpy>=1.9.2 in /usr/local/lib/python3.10/dist-packages (from pyeeg==0.4.4) (1.23.5)\n",
            "Building wheels for collected packages: pyeeg\n",
            "  Building wheel for pyeeg (setup.py) ... \u001b[?25l\u001b[?25hdone\n",
            "  Created wheel for pyeeg: filename=pyeeg-0.4.4-py2.py3-none-any.whl size=28111 sha256=46d11914c3d6cd0bd90c7303a4a863a910269e8e677c20bda8c6f1261b3392d1\n",
            "  Stored in directory: /tmp/pip-ephem-wheel-cache-vqkgpceu/wheels/a8/c4/1a/cee09dcc12a11620066d35ace42e3c1e3bfbcc1db3a0ce7788\n",
            "Successfully built pyeeg\n",
            "Installing collected packages: pyeeg\n",
            "Successfully installed pyeeg-0.4.4\n"
          ]
        }
      ]
    },
    {
      "cell_type": "code",
      "source": [
        "import numpy as np\n",
        "import pyeeg as pe\n",
        "import pickle as pickle\n",
        "import pandas as pd\n",
        "import math\n",
        "from sklearn.preprocessing import normalize\n",
        "\n",
        "import os\n",
        "import time"
      ],
      "metadata": {
        "id": "TnkufM_fOS-l"
      },
      "execution_count": 3,
      "outputs": []
    },
    {
      "cell_type": "code",
      "source": [
        "channel = [1,2,4,5,8,10,15,21,22,25,26,27,28,31,32]\n",
        "band = [4,8,13,22,30,45] #5 bands\n",
        "window_size = 256 #Averaging band power of 2 sec\n",
        "step_size = 16 #Each 0.125 sec update once\n",
        "sample_rate = 128 #Sampling rate of 128 Hz\n",
        "subjectList = ['01','02','03','04','05','06','07','08','09','10','11','12','13','14','15','16','17','18','19','20','21','22','23','24','25','26','27','28','29','30','31','32']"
      ],
      "metadata": {
        "id": "8SvpD04jOWcS"
      },
      "execution_count": 4,
      "outputs": []
    },
    {
      "cell_type": "code",
      "source": [
        "def FFT_Processing (sub, channel, band, window_size, step_size, sample_rate):\n",
        "   meta = []\n",
        "   with open('/content/drive/MyDrive/data_preprocessed_python/s' + sub + '.dat', 'rb') as file:\n",
        "\n",
        "        subject = pickle.load(file, encoding='latin1') #resolve the python 2 data problem by encoding : latin1\n",
        "\n",
        "        for i in range (0,40):\n",
        "            # loop over 0-39 trails\n",
        "            data = subject[\"data\"][i]\n",
        "            labels = subject[\"labels\"][i]\n",
        "            start = 0;\n",
        "            #data.shape\n",
        "\n",
        "            while start + window_size < data.shape[1]:\n",
        "                meta_array = []\n",
        "                meta_data = [] #meta vector for analysis\n",
        "                for j in channel:\n",
        "                    X = data[j][start : start + window_size] #Slice raw data over 2 sec, at interval of 0.125 sec\n",
        "                    Y = pe.bin_power(X, band, sample_rate) #FFT over 2 sec of channel j, in seq of theta, alpha, low beta, high beta, gamma\n",
        "                    meta_data = meta_data + list(Y[0])\n",
        "\n",
        "                meta_array.append(np.array(meta_data))\n",
        "                meta_array.append(labels)\n",
        "\n",
        "                meta.append(np.array(meta_array))\n",
        "                start = start + step_size\n",
        "\n",
        "        meta = np.array(meta)\n",
        "        np.save('/content/drive/MyDrive/processed_data/s' + sub, meta, allow_pickle=True, fix_imports=True)"
      ],
      "metadata": {
        "id": "IP3Xfr5SOYgX"
      },
      "execution_count": 7,
      "outputs": []
    },
    {
      "cell_type": "code",
      "source": [
        "for subjects in subjectList:\n",
        "    FFT_Processing (subjects, channel, band, window_size, step_size, sample_rate)"
      ],
      "metadata": {
        "colab": {
          "base_uri": "https://localhost:8080/"
        },
        "id": "ogJY0B5XOkU6",
        "outputId": "4279e006-cefb-4823-87d3-1dcb416375b7"
      },
      "execution_count": 8,
      "outputs": [
        {
          "output_type": "stream",
          "name": "stderr",
          "text": [
            "<ipython-input-7-f187518c58b2>:25: VisibleDeprecationWarning: Creating an ndarray from ragged nested sequences (which is a list-or-tuple of lists-or-tuples-or ndarrays with different lengths or shapes) is deprecated. If you meant to do this, you must specify 'dtype=object' when creating the ndarray.\n",
            "  meta.append(np.array(meta_array))\n"
          ]
        }
      ]
    },
    {
      "cell_type": "code",
      "source": [
        "data_training = []\n",
        "label_training = []\n",
        "data_testing = []\n",
        "label_testing = []\n",
        "\n",
        "for subjects in subjectList:\n",
        "  with open('/content/drive/MyDrive/processed_data/s' + subjects + '.npy', 'rb') as file:\n",
        "\n",
        "      sub = np.load(file, allow_pickle=True)\n",
        "      # sub = shuffle(sub, random_state=42)\n",
        "      for i in range (0,sub.shape[0]):\n",
        "      # print(sub.shape[0])\n",
        "        if i % 8 == 0:\n",
        "          # print(sub[i][0])\n",
        "          data_testing.append(sub[i][0])\n",
        "          label_testing.append(sub[i][1])\n",
        "        else:\n",
        "          data_training.append(sub[i][0])\n",
        "          label_training.append(sub[i][1])\n",
        "\n",
        "\n",
        "np.save('/content/drive/MyDrive/data_training/data_training', np.array(data_training), allow_pickle=True, fix_imports=True)\n",
        "np.save('/content/drive/MyDrive/label_training/label_training', np.array(label_training), allow_pickle=True, fix_imports=True)\n",
        "print(\"training dataset:\", np.array(data_training).shape, np.array(label_training).shape)\n",
        "\n",
        "np.save('/content/drive/MyDrive/data_testing/data_testing', np.array(data_testing), allow_pickle=True, fix_imports=True)\n",
        "np.save('/content/drive/MyDrive/label_testing/label_testing', np.array(label_testing), allow_pickle=True, fix_imports=True)\n",
        "print(\"testing dataset:\", np.array(data_testing).shape, np.array(label_testing).shape)"
      ],
      "metadata": {
        "colab": {
          "base_uri": "https://localhost:8080/"
        },
        "id": "Sp8qUkDbRSbp",
        "outputId": "7c720f82-497b-4d39-d5e7-184e9b572af2"
      },
      "execution_count": 11,
      "outputs": [
        {
          "output_type": "stream",
          "name": "stdout",
          "text": [
            "training dataset: (546560, 75) (546560, 4)\n",
            "testing dataset: (78080, 75) (78080, 4)\n"
          ]
        }
      ]
    },
    {
      "cell_type": "code",
      "source": [
        "import keras\n",
        "import keras.backend as K\n",
        "from keras.layers.convolutional import Conv1D\n",
        "from keras.models import Sequential\n",
        "from keras.utils import to_categorical\n",
        "from keras.layers import Dense, Dropout, Flatten, MaxPooling2D\n",
        "from keras.models import Model\n",
        "import timeit\n",
        "from keras.layers.convolutional import MaxPooling1D, ZeroPadding1D\n",
        "from keras.optimizers import SGD\n",
        "import matplotlib.pyplot as plt\n",
        "import warnings\n",
        "warnings.filterwarnings('ignore')"
      ],
      "metadata": {
        "id": "UXVIf-5mR0Lj"
      },
      "execution_count": 12,
      "outputs": []
    },
    {
      "cell_type": "code",
      "source": [
        "with open('/content/drive/MyDrive/data_training/data_training.npy', 'rb') as fileTrain:\n",
        "    X  = np.load(fileTrain)\n",
        "\n",
        "with open('/content/drive/MyDrive/label_training/label_training.npy', 'rb') as fileTrainL:\n",
        "    Y  = np.load(fileTrainL)\n",
        "\n",
        "\n",
        "X = normalize(X)\n",
        "Z = np.ravel(Y[:, [1]])\n",
        "\n",
        "Arousal_Train = np.ravel(Y[:, [0]])\n",
        "Valence_Train = np.ravel(Y[:, [1]])\n",
        "Domain_Train = np.ravel(Y[:, [2]])\n",
        "Like_Train = np.ravel(Y[:, [3]])"
      ],
      "metadata": {
        "id": "TCsezmaWR9lL"
      },
      "execution_count": 13,
      "outputs": []
    },
    {
      "cell_type": "code",
      "source": [
        "from keras.utils import to_categorical\n",
        "y_train = to_categorical(Z)\n",
        "y_train"
      ],
      "metadata": {
        "colab": {
          "base_uri": "https://localhost:8080/"
        },
        "id": "Fr6B_W5qSAk0",
        "outputId": "0e2ad478-a986-4d83-bf83-a7ebe7228d11"
      },
      "execution_count": 14,
      "outputs": [
        {
          "output_type": "execute_result",
          "data": {
            "text/plain": [
              "array([[0., 0., 0., ..., 1., 0., 0.],\n",
              "       [0., 0., 0., ..., 1., 0., 0.],\n",
              "       [0., 0., 0., ..., 1., 0., 0.],\n",
              "       ...,\n",
              "       [0., 0., 0., ..., 0., 0., 0.],\n",
              "       [0., 0., 0., ..., 0., 0., 0.],\n",
              "       [0., 0., 0., ..., 0., 0., 0.]], dtype=float32)"
            ]
          },
          "metadata": {},
          "execution_count": 14
        }
      ]
    },
    {
      "cell_type": "code",
      "source": [
        "x_train = np.array(X[:])\n",
        "x_train"
      ],
      "metadata": {
        "colab": {
          "base_uri": "https://localhost:8080/"
        },
        "id": "cSHqW5C9SDTY",
        "outputId": "d609f136-aa56-4eb2-89e5-cd9fda8a5466"
      },
      "execution_count": 15,
      "outputs": [
        {
          "output_type": "execute_result",
          "data": {
            "text/plain": [
              "array([[0.07339435, 0.12075104, 0.13829485, ..., 0.1280565 , 0.07018148,\n",
              "        0.1134959 ],\n",
              "       [0.07885531, 0.12747992, 0.14919339, ..., 0.12730831, 0.07109168,\n",
              "        0.11043889],\n",
              "       [0.08533558, 0.13516844, 0.13988254, ..., 0.12415193, 0.08130252,\n",
              "        0.11322193],\n",
              "       ...,\n",
              "       [0.09659814, 0.08755737, 0.0717007 , ..., 0.12654636, 0.07032577,\n",
              "        0.1357002 ],\n",
              "       [0.05419379, 0.04172611, 0.06316159, ..., 0.07651449, 0.07481333,\n",
              "        0.15625307],\n",
              "       [0.04212001, 0.03804705, 0.05101342, ..., 0.15677847, 0.08915938,\n",
              "        0.1738975 ]])"
            ]
          },
          "metadata": {},
          "execution_count": 15
        }
      ]
    },
    {
      "cell_type": "code",
      "source": [
        "with open('/content/drive/MyDrive/data_testing/data_testing.npy', 'rb') as fileTest:\n",
        "    M  = np.load(fileTest, allow_pickle=True)\n",
        "\n",
        "with open('/content/drive/MyDrive/label_testing/label_testing.npy', 'rb') as fileTestL:\n",
        "    N  = np.load(fileTestL, allow_pickle=True)\n",
        "\n",
        "\n",
        "M = normalize(M)\n",
        "L = np.ravel(N[:, [1]])\n",
        "\n",
        "Arousal_Test = np.ravel(N[:, [0]])\n",
        "Valence_Test = np.ravel(N[:, [1]])\n",
        "Domain_Test = np.ravel(N[:, [2]])\n",
        "Like_Test = np.ravel(N[:, [3]])"
      ],
      "metadata": {
        "id": "-hpf9RNYSIAF"
      },
      "execution_count": 16,
      "outputs": []
    },
    {
      "cell_type": "code",
      "source": [
        "x_test = np.array(M[:])\n",
        "x_test"
      ],
      "metadata": {
        "colab": {
          "base_uri": "https://localhost:8080/"
        },
        "id": "eSkwmFfBSLTx",
        "outputId": "647baef7-a839-4e94-9e72-27bfb2a9b452"
      },
      "execution_count": 17,
      "outputs": [
        {
          "output_type": "execute_result",
          "data": {
            "text/plain": [
              "array([[0.07130639, 0.13004974, 0.14904098, ..., 0.13037493, 0.06915833,\n",
              "        0.11329141],\n",
              "       [0.07752854, 0.11159266, 0.15839351, ..., 0.12750984, 0.10384615,\n",
              "        0.11456205],\n",
              "       [0.12063984, 0.11458396, 0.15857479, ..., 0.16313861, 0.10613   ,\n",
              "        0.09527421],\n",
              "       ...,\n",
              "       [0.10384991, 0.07610023, 0.05910766, ..., 0.12633775, 0.0613344 ,\n",
              "        0.1300211 ],\n",
              "       [0.16560993, 0.09638217, 0.07809719, ..., 0.09959634, 0.04863949,\n",
              "        0.12221513],\n",
              "       [0.13986119, 0.08034478, 0.07793579, ..., 0.11777917, 0.08359565,\n",
              "        0.15629315]])"
            ]
          },
          "metadata": {},
          "execution_count": 17
        }
      ]
    },
    {
      "cell_type": "code",
      "source": [
        "y_test = to_categorical(L)\n",
        "y_test"
      ],
      "metadata": {
        "colab": {
          "base_uri": "https://localhost:8080/"
        },
        "id": "xiq7vc5CSPn6",
        "outputId": "be513452-812b-4743-cfec-3b91ff790e42"
      },
      "execution_count": 18,
      "outputs": [
        {
          "output_type": "execute_result",
          "data": {
            "text/plain": [
              "array([[0., 0., 0., ..., 1., 0., 0.],\n",
              "       [0., 0., 0., ..., 1., 0., 0.],\n",
              "       [0., 0., 0., ..., 1., 0., 0.],\n",
              "       ...,\n",
              "       [0., 0., 0., ..., 0., 0., 0.],\n",
              "       [0., 0., 0., ..., 0., 0., 0.],\n",
              "       [0., 0., 0., ..., 0., 0., 0.]], dtype=float32)"
            ]
          },
          "metadata": {},
          "execution_count": 18
        }
      ]
    },
    {
      "cell_type": "code",
      "source": [
        "from sklearn.preprocessing import StandardScaler\n",
        "scaler = StandardScaler()\n",
        "x_train = scaler.fit_transform(x_train)\n",
        "x_test = scaler.fit_transform(x_test)"
      ],
      "metadata": {
        "id": "UXnLXGiTSSKI"
      },
      "execution_count": 19,
      "outputs": []
    },
    {
      "cell_type": "code",
      "source": [
        "x_train = x_train.reshape(x_train.shape[0],x_train.shape[1], 1)\n",
        "x_test = x_test.reshape(x_test.shape[0],x_test.shape[1], 1)\n",
        "print(x_train.shape)\n",
        "print(x_test.shape)"
      ],
      "metadata": {
        "colab": {
          "base_uri": "https://localhost:8080/"
        },
        "id": "Hx42sOgGSXdy",
        "outputId": "2f83bd06-d775-4105-e615-0e1d17c75aff"
      },
      "execution_count": 21,
      "outputs": [
        {
          "output_type": "stream",
          "name": "stdout",
          "text": [
            "(546560, 75, 1)\n",
            "(78080, 75, 1)\n"
          ]
        }
      ]
    },
    {
      "cell_type": "code",
      "source": [
        "print(y_train.shape)\n",
        "print(y_test.shape)"
      ],
      "metadata": {
        "colab": {
          "base_uri": "https://localhost:8080/"
        },
        "id": "WrJMvtiCSi9o",
        "outputId": "dbcba27b-7471-4dc3-d046-d239d5921a82"
      },
      "execution_count": 22,
      "outputs": [
        {
          "output_type": "stream",
          "name": "stdout",
          "text": [
            "(546560, 10)\n",
            "(78080, 10)\n"
          ]
        }
      ]
    },
    {
      "cell_type": "code",
      "source": [
        "batch_size = 256\n",
        "num_classes = 10\n",
        "epochs = 50\n",
        "input_shape=(x_train.shape[1], 1)\n",
        "print(input_shape)\n"
      ],
      "metadata": {
        "colab": {
          "base_uri": "https://localhost:8080/"
        },
        "id": "P3xzZCs6Slt2",
        "outputId": "ffbe8e00-579c-4ad4-d84c-385f4259043a"
      },
      "execution_count": 33,
      "outputs": [
        {
          "output_type": "stream",
          "name": "stdout",
          "text": [
            "(75, 1)\n"
          ]
        }
      ]
    },
    {
      "cell_type": "code",
      "source": [
        "from keras.layers import Convolution1D, ZeroPadding1D, MaxPooling1D, BatchNormalization, Activation, Dropout, Flatten, Dense,  Bidirectional, LSTM\n",
        "from keras.regularizers import l2"
      ],
      "metadata": {
        "id": "lZf1_dQsSojS"
      },
      "execution_count": 24,
      "outputs": []
    },
    {
      "cell_type": "code",
      "source": [
        "model = Sequential()\n",
        "intput_shape=(x_train.shape[1], 1)\n",
        "model.add(Conv1D(128, kernel_size=3,padding = 'same',activation='relu', input_shape=input_shape))\n",
        "model.add(BatchNormalization())\n",
        "model.add(MaxPooling1D(pool_size=(2)))\n",
        "#model.add(Conv1D(128,kernel_size=3,padding = 'same', activation='relu'))\n",
        "#model.add(BatchNormalization())\n",
        "#model.add(MaxPooling1D(pool_size=(2)))\n",
        "model.add(Bidirectional(LSTM(64, return_sequences=True)))\n",
        "model.add(Bidirectional(LSTM(32, return_sequences=True)))\n",
        "model.add(Flatten())\n",
        "model.add(Dense(32, activation='relu'))\n",
        "model.add(Dropout(0.2))\n",
        "model.add(Dense(num_classes, activation='softmax'))\n",
        "model.summary()"
      ],
      "metadata": {
        "colab": {
          "base_uri": "https://localhost:8080/"
        },
        "id": "AHyA6-I2Srm6",
        "outputId": "c50c2ec8-82a5-4d59-ef86-7282c4abb57e"
      },
      "execution_count": 25,
      "outputs": [
        {
          "output_type": "stream",
          "name": "stdout",
          "text": [
            "Model: \"sequential\"\n",
            "_________________________________________________________________\n",
            " Layer (type)                Output Shape              Param #   \n",
            "=================================================================\n",
            " conv1d (Conv1D)             (None, 75, 128)           512       \n",
            "                                                                 \n",
            " batch_normalization (BatchN  (None, 75, 128)          512       \n",
            " ormalization)                                                   \n",
            "                                                                 \n",
            " max_pooling1d (MaxPooling1D  (None, 37, 128)          0         \n",
            " )                                                               \n",
            "                                                                 \n",
            " bidirectional (Bidirectiona  (None, 37, 128)          98816     \n",
            " l)                                                              \n",
            "                                                                 \n",
            " bidirectional_1 (Bidirectio  (None, 37, 64)           41216     \n",
            " nal)                                                            \n",
            "                                                                 \n",
            " flatten (Flatten)           (None, 2368)              0         \n",
            "                                                                 \n",
            " dense (Dense)               (None, 32)                75808     \n",
            "                                                                 \n",
            " dropout (Dropout)           (None, 32)                0         \n",
            "                                                                 \n",
            " dense_1 (Dense)             (None, 10)                330       \n",
            "                                                                 \n",
            "=================================================================\n",
            "Total params: 217,194\n",
            "Trainable params: 216,938\n",
            "Non-trainable params: 256\n",
            "_________________________________________________________________\n"
          ]
        }
      ]
    },
    {
      "cell_type": "code",
      "source": [
        "model.compile(loss=keras.losses.categorical_crossentropy,\n",
        "              optimizer='adam',\n",
        "              metrics=['accuracy'])"
      ],
      "metadata": {
        "id": "pVDrdmQ4S1iL"
      },
      "execution_count": 26,
      "outputs": []
    },
    {
      "cell_type": "code",
      "source": [
        "history = model.fit(x_train, y_train,\n",
        "          batch_size=batch_size,\n",
        "          epochs=epochs,\n",
        "          verbose=1)"
      ],
      "metadata": {
        "colab": {
          "base_uri": "https://localhost:8080/"
        },
        "id": "VjslECmhS3YO",
        "outputId": "ae3f605a-3e5f-4d3d-8be4-79d0616d932a"
      },
      "execution_count": 27,
      "outputs": [
        {
          "output_type": "stream",
          "name": "stdout",
          "text": [
            "Epoch 1/50\n",
            "2135/2135 [==============================] - 60s 17ms/step - loss: 1.7522 - accuracy: 0.3204\n",
            "Epoch 2/50\n",
            "2135/2135 [==============================] - 37s 18ms/step - loss: 1.5733 - accuracy: 0.3835\n",
            "Epoch 3/50\n",
            "2135/2135 [==============================] - 36s 17ms/step - loss: 1.4633 - accuracy: 0.4267\n",
            "Epoch 4/50\n",
            "2135/2135 [==============================] - 37s 17ms/step - loss: 1.3799 - accuracy: 0.4580\n",
            "Epoch 5/50\n",
            "2135/2135 [==============================] - 35s 17ms/step - loss: 1.3167 - accuracy: 0.4834\n",
            "Epoch 6/50\n",
            "2135/2135 [==============================] - 37s 17ms/step - loss: 1.2662 - accuracy: 0.5040\n",
            "Epoch 7/50\n",
            "2135/2135 [==============================] - 36s 17ms/step - loss: 1.2235 - accuracy: 0.5207\n",
            "Epoch 8/50\n",
            "2135/2135 [==============================] - 37s 17ms/step - loss: 1.1855 - accuracy: 0.5358\n",
            "Epoch 9/50\n",
            "2135/2135 [==============================] - 36s 17ms/step - loss: 1.1544 - accuracy: 0.5483\n",
            "Epoch 10/50\n",
            "2135/2135 [==============================] - 37s 17ms/step - loss: 1.1260 - accuracy: 0.5593\n",
            "Epoch 11/50\n",
            "2135/2135 [==============================] - 36s 17ms/step - loss: 1.1025 - accuracy: 0.5686\n",
            "Epoch 12/50\n",
            "2135/2135 [==============================] - 37s 17ms/step - loss: 1.0813 - accuracy: 0.5770\n",
            "Epoch 13/50\n",
            "2135/2135 [==============================] - 36s 17ms/step - loss: 1.0621 - accuracy: 0.5847\n",
            "Epoch 14/50\n",
            "2135/2135 [==============================] - 37s 17ms/step - loss: 1.0431 - accuracy: 0.5914\n",
            "Epoch 15/50\n",
            "2135/2135 [==============================] - 37s 17ms/step - loss: 1.0281 - accuracy: 0.5981\n",
            "Epoch 16/50\n",
            "2135/2135 [==============================] - 36s 17ms/step - loss: 1.0117 - accuracy: 0.6043\n",
            "Epoch 17/50\n",
            "2135/2135 [==============================] - 37s 17ms/step - loss: 0.9984 - accuracy: 0.6109\n",
            "Epoch 18/50\n",
            "2135/2135 [==============================] - 36s 17ms/step - loss: 0.9869 - accuracy: 0.6151\n",
            "Epoch 19/50\n",
            "2135/2135 [==============================] - 37s 17ms/step - loss: 0.9737 - accuracy: 0.6194\n",
            "Epoch 20/50\n",
            "2135/2135 [==============================] - 36s 17ms/step - loss: 0.9633 - accuracy: 0.6225\n",
            "Epoch 21/50\n",
            "2135/2135 [==============================] - 37s 17ms/step - loss: 0.9512 - accuracy: 0.6279\n",
            "Epoch 22/50\n",
            "2135/2135 [==============================] - 36s 17ms/step - loss: 0.9436 - accuracy: 0.6310\n",
            "Epoch 23/50\n",
            "2135/2135 [==============================] - 37s 17ms/step - loss: 0.9334 - accuracy: 0.6351\n",
            "Epoch 24/50\n",
            "2135/2135 [==============================] - 36s 17ms/step - loss: 0.9266 - accuracy: 0.6382\n",
            "Epoch 25/50\n",
            "2135/2135 [==============================] - 37s 17ms/step - loss: 0.9167 - accuracy: 0.6423\n",
            "Epoch 26/50\n",
            "2135/2135 [==============================] - 36s 17ms/step - loss: 0.9098 - accuracy: 0.6445\n",
            "Epoch 27/50\n",
            "2135/2135 [==============================] - 37s 17ms/step - loss: 0.9026 - accuracy: 0.6480\n",
            "Epoch 28/50\n",
            "2135/2135 [==============================] - 37s 17ms/step - loss: 0.8972 - accuracy: 0.6498\n",
            "Epoch 29/50\n",
            "2135/2135 [==============================] - 37s 17ms/step - loss: 0.8900 - accuracy: 0.6530\n",
            "Epoch 30/50\n",
            "2135/2135 [==============================] - 37s 17ms/step - loss: 0.8823 - accuracy: 0.6559\n",
            "Epoch 31/50\n",
            "2135/2135 [==============================] - 37s 17ms/step - loss: 0.8777 - accuracy: 0.6569\n",
            "Epoch 32/50\n",
            "2135/2135 [==============================] - 37s 17ms/step - loss: 0.8709 - accuracy: 0.6602\n",
            "Epoch 33/50\n",
            "2135/2135 [==============================] - 36s 17ms/step - loss: 0.8663 - accuracy: 0.6621\n",
            "Epoch 34/50\n",
            "2135/2135 [==============================] - 37s 17ms/step - loss: 0.8603 - accuracy: 0.6644\n",
            "Epoch 35/50\n",
            "2135/2135 [==============================] - 36s 17ms/step - loss: 0.8572 - accuracy: 0.6659\n",
            "Epoch 36/50\n",
            "2135/2135 [==============================] - 37s 17ms/step - loss: 0.8490 - accuracy: 0.6687\n",
            "Epoch 37/50\n",
            "2135/2135 [==============================] - 36s 17ms/step - loss: 0.8463 - accuracy: 0.6700\n",
            "Epoch 38/50\n",
            "2135/2135 [==============================] - 37s 17ms/step - loss: 0.8418 - accuracy: 0.6720\n",
            "Epoch 39/50\n",
            "2135/2135 [==============================] - 36s 17ms/step - loss: 0.8387 - accuracy: 0.6730\n",
            "Epoch 40/50\n",
            "2135/2135 [==============================] - 37s 18ms/step - loss: 0.8337 - accuracy: 0.6749\n",
            "Epoch 41/50\n",
            "2135/2135 [==============================] - 36s 17ms/step - loss: 0.8310 - accuracy: 0.6761\n",
            "Epoch 42/50\n",
            "2135/2135 [==============================] - 37s 17ms/step - loss: 0.8246 - accuracy: 0.6784\n",
            "Epoch 43/50\n",
            "2135/2135 [==============================] - 37s 17ms/step - loss: 0.8223 - accuracy: 0.6808\n",
            "Epoch 44/50\n",
            "2135/2135 [==============================] - 37s 17ms/step - loss: 0.8183 - accuracy: 0.6809\n",
            "Epoch 45/50\n",
            "2135/2135 [==============================] - 37s 17ms/step - loss: 0.8153 - accuracy: 0.6828\n",
            "Epoch 46/50\n",
            "2135/2135 [==============================] - 37s 17ms/step - loss: 0.8118 - accuracy: 0.6834\n",
            "Epoch 47/50\n",
            "2135/2135 [==============================] - 38s 18ms/step - loss: 0.8083 - accuracy: 0.6846\n",
            "Epoch 48/50\n",
            "2135/2135 [==============================] - 37s 17ms/step - loss: 0.8051 - accuracy: 0.6865\n",
            "Epoch 49/50\n",
            "2135/2135 [==============================] - 38s 18ms/step - loss: 0.8020 - accuracy: 0.6879\n",
            "Epoch 50/50\n",
            "2135/2135 [==============================] - 38s 18ms/step - loss: 0.7986 - accuracy: 0.6891\n"
          ]
        }
      ]
    },
    {
      "cell_type": "code",
      "source": [
        "plt.plot(history.history['accuracy'], label='accuracy')\n",
        "plt.plot(history.history['loss'], label = 'loss')\n",
        "plt.xlabel('Epoch')\n",
        "plt.ylabel('Accuracy')\n",
        "plt.ylim([0.5, 1])\n",
        "plt.legend(loc='upper right')\n",
        "\n",
        "test_loss, test_acc = model.evaluate(x_test, y_test, verbose=1)"
      ],
      "metadata": {
        "colab": {
          "base_uri": "https://localhost:8080/",
          "height": 472
        },
        "id": "xOkZ3DqgaS0Z",
        "outputId": "dcf70517-a18a-4e2b-da01-4fe50662bfec"
      },
      "execution_count": 32,
      "outputs": [
        {
          "output_type": "stream",
          "name": "stdout",
          "text": [
            "2440/2440 [==============================] - 24s 10ms/step - loss: 0.8300 - accuracy: 0.7049\n"
          ]
        },
        {
          "output_type": "display_data",
          "data": {
            "text/plain": [
              "<Figure size 640x480 with 1 Axes>"
            ],
            "image/png": "[encoded data removed]"
          },
          "metadata": {}
        }
      ]
    }
  ]
}